{
 "cells": [
  {
   "cell_type": "code",
   "execution_count": 1,
   "metadata": {},
   "outputs": [
    {
     "data": {
      "text/plain": [
       "'\\nProblem 3 - Tuples\\nCreate a tuple of many of the major tasks you have to complete for the day in the order you have to complete them. So for example the tasks for me are as follows:\\n\\nwake up\\neat breakfast\\ngo to work\\neat lunch\\nleave work\\ngo the gym\\neat dinner\\nread\\nsleep\\nCreate a program that goes through this tuple and tells the story of a typical day for you.\\n\\n'"
      ]
     },
     "execution_count": 1,
     "metadata": {},
     "output_type": "execute_result"
    }
   ],
   "source": [
    "'''\n",
    "Problem 3 - Tuples\n",
    "Create a tuple of many of the major tasks you have to complete for the day in the order you have to complete them. So for example the tasks for me are as follows:\n",
    "\n",
    "wake up\n",
    "eat breakfast\n",
    "go to work\n",
    "eat lunch\n",
    "leave work\n",
    "go the gym\n",
    "eat dinner\n",
    "read\n",
    "sleep\n",
    "Create a program that goes through this tuple and tells the story of a typical day for you.\n",
    "\n",
    "'''"
   ]
  },
  {
   "cell_type": "code",
   "execution_count": 7,
   "metadata": {},
   "outputs": [
    {
     "name": "stdout",
     "output_type": "stream",
     "text": [
      "Here's my day:\n",
      "First I wake up.\n",
      "If I'm smell I bathe right away. Otherwise, I may just start work.\n",
      "Once things calm down I may eat.\n",
      "If work is super slow, around noon I'll go for a run.\n",
      "Although, since my friends call me The Nap King, I'm notorious for getting some sleep for 30 minutes during lunch hours.\n",
      "Either way, before the day is out, I study some technology before ending my day.\n"
     ]
    }
   ],
   "source": [
    "myDay = ('wake up','eat','bathe','work','run','study','sleep')\n",
    "\n",
    "print('Here\\'s my day:')\n",
    "print('First I {}.'.format(myDay[0]))\n",
    "print('If I\\'m smell I {} right away. Otherwise, I may just start {}.'.format(myDay[2], myDay[3]))\n",
    "print('Once things calm down I may {}.'.format(myDay[1]))\n",
    "print('If {} is super slow, around noon I\\'ll go for a {}.'.format(myDay[3],myDay[4]))\n",
    "print('Although, since my friends call me The Nap King, I\\'m notorious for getting some {} for 30 minutes during lunch hours.'.format(myDay[6]))\n",
    "print('Either way, before the day is out, I {} some technology before ending my day.'.format(myDay[5]))"
   ]
  },
  {
   "cell_type": "code",
   "execution_count": null,
   "metadata": {},
   "outputs": [],
   "source": []
  }
 ],
 "metadata": {
  "kernelspec": {
   "display_name": "Python 3",
   "language": "python",
   "name": "python3"
  },
  "language_info": {
   "codemirror_mode": {
    "name": "ipython",
    "version": 3
   },
   "file_extension": ".py",
   "mimetype": "text/x-python",
   "name": "python",
   "nbconvert_exporter": "python",
   "pygments_lexer": "ipython3",
   "version": "3.6.0"
  }
 },
 "nbformat": 4,
 "nbformat_minor": 2
}
