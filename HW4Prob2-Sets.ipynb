{
 "cells": [
  {
   "cell_type": "code",
   "execution_count": 5,
   "metadata": {},
   "outputs": [],
   "source": [
    "myMovies = {'Mo Betta Blues','Black Panther','The Matrix'}\n",
    "herMovies = {'Black Panther','The Sixth Sense','Color Purple'} "
   ]
  },
  {
   "cell_type": "code",
   "execution_count": 6,
   "metadata": {},
   "outputs": [],
   "source": [
    "incommon = myMovies.intersection(herMovies)\n",
    "iLikeSheDoesnt = myMovies.difference(herMovies)"
   ]
  },
  {
   "cell_type": "code",
   "execution_count": 7,
   "metadata": {},
   "outputs": [
    {
     "name": "stdout",
     "output_type": "stream",
     "text": [
      "We both love the following movies: {'Black Panther'}\n"
     ]
    }
   ],
   "source": [
    "print('We both love the following movies: {}'.format(incommon))"
   ]
  },
  {
   "cell_type": "code",
   "execution_count": 8,
   "metadata": {},
   "outputs": [
    {
     "name": "stdout",
     "output_type": "stream",
     "text": [
      "I like the following, but she doesn't have them in her favorites: {'Mo Betta Blues', 'The Matrix'}\n"
     ]
    }
   ],
   "source": [
    "print('I like the following, but she doesn\\'t have them in her favorites: {}'.format(iLikeSheDoesnt))"
   ]
  },
  {
   "cell_type": "code",
   "execution_count": null,
   "metadata": {},
   "outputs": [],
   "source": []
  }
 ],
 "metadata": {
  "kernelspec": {
   "display_name": "Python 3",
   "language": "python",
   "name": "python3"
  },
  "language_info": {
   "codemirror_mode": {
    "name": "ipython",
    "version": 3
   },
   "file_extension": ".py",
   "mimetype": "text/x-python",
   "name": "python",
   "nbconvert_exporter": "python",
   "pygments_lexer": "ipython3",
   "version": "3.6.0"
  }
 },
 "nbformat": 4,
 "nbformat_minor": 2
}
